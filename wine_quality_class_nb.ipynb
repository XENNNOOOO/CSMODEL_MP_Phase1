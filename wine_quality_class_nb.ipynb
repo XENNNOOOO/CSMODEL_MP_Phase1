{
 "cells": [
  {
   "cell_type": "markdown",
   "id": "f24a2b81",
   "metadata": {},
   "source": [
    "# Wine Quality Clasification Notebook"
   ]
  },
  {
   "cell_type": "markdown",
   "id": "2c3feb75",
   "metadata": {},
   "source": [
    "## Dataset Description\n",
    "This dataset consists of 1,000 wine samples, where each sample has been assessed using four chemical features and assigned a quality label (low, medium, or high). The dataset is intended for classification tasks—the objective is to build a model that can predict the quality_label of a wine based on its chemical attributes.\n",
    "\n",
    "Wines can have their quality influenced by various physicochemical factors (e.g., sugar content, acidity, alcohol). Understanding these can help producers and researchers assess wine characteristics and potentially improve production quality."
   ]
  },
  {
   "cell_type": "markdown",
   "id": "f0b6a326",
   "metadata": {},
   "source": [
    "## Data Collection\n",
    "The dataset is hosted on Kaggle by user sahideseker and described simply as containing 1,000 labeled wine samples with key attributes. \n",
    "[Wine Quality Classification](https://www.kaggle.com/datasets/sahideseker/wine-quality-classification?fbclid=IwY2xjawKri85leHRuA2FlbQIxMABicmlkETFwSmpnYkdhVDFlTnB5Nm9lAR5XrBjEEytHpU0oDCEo4Fs1W97qrXJQrLufftsi_Ro4KXY7ZrGxk17P3rU7Ug_aem_HhBigX5iAqh3X31BoKJfeA)\n",
    "\n",
    "\n",
    "The structure closely matches the [UCI Wine Quality dataset](https://archive.ics.uci.edu/dataset/186/wine%2Bquality?utm_source=chatgpt.com), which derives from lab-based physicochemical testing of Portuguese Vinho Verde wines, along with sensory (expert) quality scores \n",
    "archive.ics.uci.edu\n",
    "\n",
    "\n",
    "Likely a sample or curated excerpt from the UCI dataset—though no explicit mention is made of whether the data are from red or white varieties, or how the quality labels were assigned."
   ]
  },
  {
   "cell_type": "markdown",
   "id": "894513e9",
   "metadata": {},
   "source": [
    "### Potential Implications of Data Collection\n",
    "* Label Origin Ambiguity: If labels derive from expert scores versus rule-based thresholds, this can affect model interpretability and reliability.\n",
    "* Sampling Bias: Without clear provenance, it's unclear whether all wine types or regions are equally represented.\n",
    "* Limited Feature Scope: Only four chemical attributes are included, so models trained on this may miss nuance present in broader feature sets.\n",
    "\n"
   ]
  },
  {
   "cell_type": "markdown",
   "id": "4a334052",
   "metadata": {},
   "source": [
    "## Structure of the Data\n",
    "This is a structured, tabular dataset with:\n",
    "* Rows: Each row corresponds to one wine sample.\n",
    "* Columns: Each column is either a measurable physicochemical feature or the class label.\n",
    "* Total Observations: 1000 rows (wine samples)\n",
    "* Total Features: 5 columns (4 features + 1 label)"
   ]
  },
  {
   "cell_type": "markdown",
   "id": "5a3bc739",
   "metadata": {},
   "source": [
    "## Column-by-Column Breakdown\n",
    "| Column Name      | Data Type            | Description                                                                                                                     |\n",
    "| ---------------- | -------------------- | ------------------------------------------------------------------------------------------------------------------------------- |\n",
    "| `fixed_acidity`  | Float                | Refers to acids that do not evaporate readily. Affects flavor and stability. Higher values often mean higher tartness.          |\n",
    "| `residual_sugar` | Float                | The amount of sugar left after fermentation. Impacts sweetness.                                                                 |\n",
    "| `alcohol`        | Float                | Alcohol percentage by volume. Higher alcohol often contributes to a better quality perception.                                  |\n",
    "| `density`        | Float                | Density of the wine, related to sugar and alcohol content. Important for quality and fermentation monitoring.                   |\n",
    "| `quality_label`  | Object (Categorical) | The assigned quality class for each wine: `low`, `medium`, or `high`. This is the **target variable** for classification tasks. |\n"
   ]
  },
  {
   "cell_type": "markdown",
   "id": "4624b201",
   "metadata": {},
   "source": [
    "\n",
    "\n",
    "\n",
    "## Data Cleaning"
   ]
  },
  {
   "cell_type": "markdown",
   "id": "9ffe3729",
   "metadata": {},
   "source": [
    "#### Load the data"
   ]
  },
  {
   "cell_type": "code",
   "execution_count": 1,
   "id": "2bc293cb",
   "metadata": {},
   "outputs": [
    {
     "data": {
      "text/html": [
       "<div>\n",
       "<style scoped>\n",
       "    .dataframe tbody tr th:only-of-type {\n",
       "        vertical-align: middle;\n",
       "    }\n",
       "\n",
       "    .dataframe tbody tr th {\n",
       "        vertical-align: top;\n",
       "    }\n",
       "\n",
       "    .dataframe thead th {\n",
       "        text-align: right;\n",
       "    }\n",
       "</style>\n",
       "<table border=\"1\" class=\"dataframe\">\n",
       "  <thead>\n",
       "    <tr style=\"text-align: right;\">\n",
       "      <th></th>\n",
       "      <th>fixed_acidity</th>\n",
       "      <th>residual_sugar</th>\n",
       "      <th>alcohol</th>\n",
       "      <th>density</th>\n",
       "      <th>quality_label</th>\n",
       "    </tr>\n",
       "  </thead>\n",
       "  <tbody>\n",
       "    <tr>\n",
       "      <th>0</th>\n",
       "      <td>9.3</td>\n",
       "      <td>6.4</td>\n",
       "      <td>13.6</td>\n",
       "      <td>1.0005</td>\n",
       "      <td>high</td>\n",
       "    </tr>\n",
       "    <tr>\n",
       "      <th>1</th>\n",
       "      <td>11.2</td>\n",
       "      <td>2.0</td>\n",
       "      <td>14.0</td>\n",
       "      <td>0.9912</td>\n",
       "      <td>medium</td>\n",
       "    </tr>\n",
       "    <tr>\n",
       "      <th>2</th>\n",
       "      <td>11.6</td>\n",
       "      <td>0.9</td>\n",
       "      <td>8.2</td>\n",
       "      <td>0.9935</td>\n",
       "      <td>low</td>\n",
       "    </tr>\n",
       "    <tr>\n",
       "      <th>3</th>\n",
       "      <td>12.9</td>\n",
       "      <td>6.6</td>\n",
       "      <td>12.7</td>\n",
       "      <td>1.0002</td>\n",
       "      <td>low</td>\n",
       "    </tr>\n",
       "    <tr>\n",
       "      <th>4</th>\n",
       "      <td>13.9</td>\n",
       "      <td>13.8</td>\n",
       "      <td>10.4</td>\n",
       "      <td>0.9942</td>\n",
       "      <td>medium</td>\n",
       "    </tr>\n",
       "  </tbody>\n",
       "</table>\n",
       "</div>"
      ],
      "text/plain": [
       "   fixed_acidity  residual_sugar  alcohol  density quality_label\n",
       "0            9.3             6.4     13.6   1.0005          high\n",
       "1           11.2             2.0     14.0   0.9912        medium\n",
       "2           11.6             0.9      8.2   0.9935           low\n",
       "3           12.9             6.6     12.7   1.0002           low\n",
       "4           13.9            13.8     10.4   0.9942        medium"
      ]
     },
     "execution_count": 1,
     "metadata": {},
     "output_type": "execute_result"
    }
   ],
   "source": [
    "import pandas as pd\n",
    "\n",
    "df = pd.read_csv('wine_quality_classification.csv')\n",
    "df.head()"
   ]
  },
  {
   "cell_type": "markdown",
   "id": "f535f348",
   "metadata": {},
   "source": [
    "#### Check for Incorrect Data Types"
   ]
  },
  {
   "cell_type": "code",
   "execution_count": 2,
   "id": "ddf8fcbb",
   "metadata": {},
   "outputs": [
    {
     "name": "stdout",
     "output_type": "stream",
     "text": [
      "<class 'pandas.core.frame.DataFrame'>\n",
      "RangeIndex: 1000 entries, 0 to 999\n",
      "Data columns (total 5 columns):\n",
      " #   Column          Non-Null Count  Dtype  \n",
      "---  ------          --------------  -----  \n",
      " 0   fixed_acidity   1000 non-null   float64\n",
      " 1   residual_sugar  1000 non-null   float64\n",
      " 2   alcohol         1000 non-null   float64\n",
      " 3   density         1000 non-null   float64\n",
      " 4   quality_label   1000 non-null   object \n",
      "dtypes: float64(4), object(1)\n",
      "memory usage: 39.2+ KB\n"
     ]
    }
   ],
   "source": [
    "df.info()"
   ]
  },
  {
   "cell_type": "markdown",
   "id": "d98e3ed2",
   "metadata": {},
   "source": [
    "#### Check for Missing Data"
   ]
  },
  {
   "cell_type": "code",
   "execution_count": 3,
   "id": "4d48ee91",
   "metadata": {},
   "outputs": [
    {
     "data": {
      "text/plain": [
       "fixed_acidity     0\n",
       "residual_sugar    0\n",
       "alcohol           0\n",
       "density           0\n",
       "quality_label     0\n",
       "dtype: int64"
      ]
     },
     "execution_count": 3,
     "metadata": {},
     "output_type": "execute_result"
    }
   ],
   "source": [
    "df.isnull().sum()"
   ]
  },
  {
   "cell_type": "markdown",
   "id": "e0b397fb",
   "metadata": {},
   "source": [
    "#### Check Duplicate Data"
   ]
  },
  {
   "cell_type": "code",
   "execution_count": 4,
   "id": "877de301",
   "metadata": {},
   "outputs": [
    {
     "data": {
      "text/plain": [
       "np.int64(0)"
      ]
     },
     "execution_count": 4,
     "metadata": {},
     "output_type": "execute_result"
    }
   ],
   "source": [
    "df.duplicated().sum()"
   ]
  },
  {
   "cell_type": "markdown",
   "id": "b6d55380",
   "metadata": {},
   "source": [
    "#### Check for Inconsistent Formatting"
   ]
  },
  {
   "cell_type": "code",
   "execution_count": 5,
   "id": "179f9ef7",
   "metadata": {},
   "outputs": [
    {
     "name": "stdout",
     "output_type": "stream",
     "text": [
      "['fixed_acidity', 'residual_sugar', 'alcohol', 'density', 'quality_label']\n"
     ]
    }
   ],
   "source": [
    "df.columns = df.columns.str.strip()\n",
    "print(df.columns.tolist())"
   ]
  },
  {
   "cell_type": "markdown",
   "id": "3f5188f4",
   "metadata": {},
   "source": [
    "#### Check for Outliers"
   ]
  },
  {
   "cell_type": "code",
   "execution_count": 6,
   "id": "c79ec614",
   "metadata": {},
   "outputs": [
    {
     "name": "stdout",
     "output_type": "stream",
     "text": [
      "fixed_acidity: 0 outliers\n",
      "residual_sugar: 0 outliers\n",
      "alcohol: 0 outliers\n",
      "density: 0 outliers\n"
     ]
    }
   ],
   "source": [
    "for col in ['fixed_acidity', 'residual_sugar', 'alcohol', 'density']:\n",
    "    Q1 = df[col].quantile(0.25)\n",
    "    Q3 = df[col].quantile(0.75)\n",
    "    IQR = Q3 - Q1\n",
    "    outliers = df[(df[col] < Q1 - 1.5 * IQR) | (df[col] > Q3 + 1.5 * IQR)]\n",
    "    print(f\"{col}: {len(outliers)} outliers\")\n"
   ]
  },
  {
   "cell_type": "markdown",
   "id": "3692a97a",
   "metadata": {},
   "source": [
    "## Data Cleaning Summary\n",
    "\n",
    "After thorough inspection, no errors, inconsistencies, or missing values were found in the dataset.\n",
    "All columns have appropriate data types, categorical labels are consistently formatted, and no duplicate or null values exist.\n",
    "The dataset is clean and does not require additional preprocessing."
   ]
  },
  {
   "cell_type": "markdown",
   "id": "3a519867",
   "metadata": {},
   "source": [
    "## Exploratory Data Analysis (EDA)"
   ]
  },
  {
   "cell_type": "markdown",
   "id": "220795dd",
   "metadata": {},
   "source": [
    "In this section, we will perform Exploratory Data Analysis (EDA) to better understand the distribution of features, relationships between variables, and patterns associated with wine quality labels. Visualizations and summary statistics will help uncover trends and inform subsequent modeling steps."
   ]
  },
  {
   "cell_type": "code",
   "execution_count": 7,
   "id": "e3de8166",
   "metadata": {},
   "outputs": [],
   "source": [
    "import numpy as np\n",
    "import pandas as pd\n",
    "import matplotlib.pyplot as plt"
   ]
  },
  {
   "cell_type": "markdown",
   "id": "3b302084",
   "metadata": {},
   "source": [
    "## Research Question\n",
    "\n",
    "**Main Research Question:** \"What combination of chemical properties best predicts wine quality classification, and how do these properties interact with each other?\"\n",
    "\n",
    "To explore this main question, we'll investigate the following exploratory data analysis questions:\n",
    "\n",
    "1. How do the distributions of chemical properties differ across wine quality categories?\n",
    "2. What relationships exist between the chemical properties of wine, and do these relationships change based on quality level?\n",
    "3. Are there distinct clusters or patterns in the chemical composition that correspond to quality classifications?"
   ]
  },
  {
   "cell_type": "code",
   "execution_count": 8,
   "id": "061ae76a",
   "metadata": {},
   "outputs": [
    {
     "name": "stdout",
     "output_type": "stream",
     "text": [
      "Basic statistics of the dataset:\n",
      "       fixed_acidity  residual_sugar      alcohol      density\n",
      "count    1000.000000      1000.00000  1000.000000  1000.000000\n",
      "mean       10.174300         7.69200    11.039900     0.997505\n",
      "std         3.452693         4.20892     1.760283     0.004300\n",
      "min         4.000000         0.50000     8.000000     0.990000\n",
      "25%         7.100000         4.10000     9.500000     0.993900\n",
      "50%        10.400000         7.55000    11.000000     0.997400\n",
      "75%        13.125000        11.50000    12.600000     1.001200\n",
      "max        16.000000        15.00000    14.000000     1.005000\n",
      "\n",
      "Distribution of wine quality labels:\n",
      "quality_label\n",
      "medium    355\n",
      "high      343\n",
      "low       302\n",
      "Name: count, dtype: int64\n"
     ]
    }
   ],
   "source": [
    "print(\"Basic statistics of the dataset:\")\n",
    "print(df.describe())\n",
    "\n",
    "# Distribution of wine quality labels\n",
    "print(\"\\nDistribution of wine quality labels:\")\n",
    "quality_counts = df['quality_label'].value_counts()\n",
    "print(quality_counts)"
   ]
  }
 ],
 "metadata": {
  "kernelspec": {
   "display_name": "Python 3",
   "language": "python",
   "name": "python3"
  },
  "language_info": {
   "codemirror_mode": {
    "name": "ipython",
    "version": 3
   },
   "file_extension": ".py",
   "mimetype": "text/x-python",
   "name": "python",
   "nbconvert_exporter": "python",
   "pygments_lexer": "ipython3",
   "version": "3.13.3"
  }
 },
 "nbformat": 4,
 "nbformat_minor": 5
}
